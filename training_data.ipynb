{
 "cells": [
  {
   "cell_type": "markdown",
   "metadata": {},
   "source": [
    "## imports"
   ]
  },
  {
   "cell_type": "code",
   "execution_count": 1,
   "metadata": {
    "ExecuteTime": {
     "end_time": "2019-09-09T09:40:40.694326Z",
     "start_time": "2019-09-09T09:40:40.687409Z"
    },
    "code_folding": []
   },
   "outputs": [],
   "source": [
    "# import libraries\n",
    "import os\n",
    "import numpy as np\n",
    "import torch"
   ]
  },
  {
   "cell_type": "markdown",
   "metadata": {},
   "source": [
    "## GPU "
   ]
  },
  {
   "cell_type": "code",
   "execution_count": 2,
   "metadata": {},
   "outputs": [],
   "source": [
    "gpu_number=\"4\"\n",
    "os.environ[\"CUDA_VISIBLE_DEVICES\"] = gpu_number"
   ]
  },
  {
   "cell_type": "markdown",
   "metadata": {},
   "source": [
    "## Paramters"
   ]
  },
  {
   "cell_type": "code",
   "execution_count": 3,
   "metadata": {
    "code_folding": []
   },
   "outputs": [],
   "source": [
    "# number of IVIM parameter sets for b-value optimization & training DNN\n",
    "num_samples = 1000000        \n",
    "num_samples_val = 10000\n",
    "\n",
    "# IVIM parameter ranges for the human brain\n",
    "fmin=0;     fmax=0.2;\n",
    "Dmin=0;     Dmax=1.8e-3;\n",
    "Dpmin=0;    Dpmax=20e-3;\n",
    "S0min=200;    S0max=1700;\n",
    "\n",
    "# set noise level\n",
    "S0 = 300\n",
    "SNR = 100\n",
    "noise_std = S0/SNR\n",
    "\n",
    "# number of trials to avoid local minima\n",
    "num_trials=5 \n",
    "\n",
    "# number of b-value \n",
    "num_bvalue=4\n",
    "\n",
    "# set file path\n",
    "file_path = os.getcwd()+'/'"
   ]
  },
  {
   "cell_type": "markdown",
   "metadata": {},
   "source": [
    "## Generate IVIM parameter sets"
   ]
  },
  {
   "cell_type": "code",
   "execution_count": 4,
   "metadata": {
    "ExecuteTime": {
     "end_time": "2019-09-09T09:40:51.713133Z",
     "start_time": "2019-09-09T09:40:40.709631Z"
    },
    "code_folding": []
   },
   "outputs": [],
   "source": [
    "# Generate IVIM parameter sets for train & validation\n",
    "Dp_train = np.zeros(num_samples)\n",
    "Dt_train = np.zeros(num_samples)\n",
    "Fp_train = np.zeros(num_samples)\n",
    "S0_train = np.zeros(num_samples)\n",
    "\n",
    "Dp_validation = np.zeros(num_samples_val)\n",
    "Dt_validation = np.zeros(num_samples_val)\n",
    "Fp_validation = np.zeros(num_samples_val)\n",
    "S0_validation = np.zeros(num_samples_val)\n",
    "\n",
    "for i in range(num_samples):\n",
    "    Dp_train[i] = np.random.uniform(0, 1)*(Dpmax-Dpmin)+Dpmin\n",
    "    Dt_train[i] = np.random.uniform(0, 1)*(Dmax-Dmin)+Dmin\n",
    "    Fp_train[i] = np.random.uniform(0, 1)*(fmax-fmin)+fmin\n",
    "    S0_train[i] = np.random.uniform(0, 1)*(S0max-S0min)+S0min\n",
    "    \n",
    "for i in range(num_samples_val):\n",
    "    Dp_validation[i] = np.random.uniform(0, 1)*(Dpmax-Dpmin)+Dpmin\n",
    "    Dt_validation[i] = np.random.uniform(0, 1)*(Dmax-Dmin)+Dmin\n",
    "    Fp_validation[i] = np.random.uniform(0, 1)*(fmax-fmin)+fmin\n",
    "    S0_validation[i] = np.random.uniform(0, 1)*(S0max-S0min)+S0min\n",
    "\n",
    "inputdata = np.transpose(np.concatenate(([Fp_train], [Dt_train], [Dp_train], [S0_train]), axis=0))\n",
    "inputdata_val = np.transpose(np.concatenate(([Fp_validation], [Dt_validation], [Dp_validation], [S0_validation]), axis=0))\n",
    "\n",
    "# noise will be added to the MRI signals \n",
    "noise_train=torch.normal(torch.tensor(np.zeros((num_samples,num_bvalue))),std=noise_std).float().cuda()\n",
    "noise_validation=torch.normal(torch.tensor(np.zeros((num_samples_val,num_bvalue))),std=noise_std).float().cuda()\n"
   ]
  },
  {
   "cell_type": "markdown",
   "metadata": {},
   "source": [
    "## Save data"
   ]
  },
  {
   "cell_type": "code",
   "execution_count": 5,
   "metadata": {},
   "outputs": [],
   "source": [
    "torch.save(noise_train,file_path+'noise_train.pth')\n",
    "torch.save(noise_validation,file_path+'noise_validation.pth')\n",
    "\n",
    "torch.save(inputdata,file_path+'inputdata.pth')\n",
    "torch.save(inputdata_val,file_path+'inputdata_val.pth')"
   ]
  },
  {
   "cell_type": "code",
   "execution_count": null,
   "metadata": {},
   "outputs": [],
   "source": []
  }
 ],
 "metadata": {
  "kernelspec": {
   "display_name": "Python 3",
   "language": "python",
   "name": "python3"
  },
  "language_info": {
   "codemirror_mode": {
    "name": "ipython",
    "version": 3
   },
   "file_extension": ".py",
   "mimetype": "text/x-python",
   "name": "python",
   "nbconvert_exporter": "python",
   "pygments_lexer": "ipython3",
   "version": "3.7.6"
  },
  "varInspector": {
   "cols": {
    "lenName": 16,
    "lenType": 16,
    "lenVar": 40
   },
   "kernels_config": {
    "python": {
     "delete_cmd_postfix": "",
     "delete_cmd_prefix": "del ",
     "library": "var_list.py",
     "varRefreshCmd": "print(var_dic_list())"
    },
    "r": {
     "delete_cmd_postfix": ") ",
     "delete_cmd_prefix": "rm(",
     "library": "var_list.r",
     "varRefreshCmd": "cat(var_dic_list()) "
    }
   },
   "types_to_exclude": [
    "module",
    "function",
    "builtin_function_or_method",
    "instance",
    "_Feature"
   ],
   "window_display": false
  }
 },
 "nbformat": 4,
 "nbformat_minor": 2
}
